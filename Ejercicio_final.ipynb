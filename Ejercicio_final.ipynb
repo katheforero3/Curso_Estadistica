{
  "nbformat": 4,
  "nbformat_minor": 0,
  "metadata": {
    "colab": {
      "provenance": [],
      "authorship_tag": "ABX9TyNCBPIdZl2ze1RgwfvaqYmy",
      "include_colab_link": true
    },
    "kernelspec": {
      "name": "python3",
      "display_name": "Python 3"
    },
    "language_info": {
      "name": "python"
    }
  },
  "cells": [
    {
      "cell_type": "markdown",
      "metadata": {
        "id": "view-in-github",
        "colab_type": "text"
      },
      "source": [
        "<a href=\"https://colab.research.google.com/github/katheforero3/Curso_Estadistica/blob/main/Ejercicio_final.ipynb\" target=\"_parent\"><img src=\"https://colab.research.google.com/assets/colab-badge.svg\" alt=\"Open In Colab\"/></a>"
      ]
    },
    {
      "cell_type": "code",
      "source": [
        "#Cargar datos\n",
        "from google.colab import files\n",
        "uploaded = files.upload()"
      ],
      "metadata": {
        "id": "ivuf0CayiJGS",
        "colab": {
          "base_uri": "https://localhost:8080/",
          "height": 73
        },
        "outputId": "070737ee-6bc1-4fe8-d94b-f072c02e23bd"
      },
      "execution_count": 25,
      "outputs": [
        {
          "output_type": "display_data",
          "data": {
            "text/plain": [
              "<IPython.core.display.HTML object>"
            ],
            "text/html": [
              "\n",
              "     <input type=\"file\" id=\"files-4d077712-85dc-4184-81dd-45595f81a5d0\" name=\"files[]\" multiple disabled\n",
              "        style=\"border:none\" />\n",
              "     <output id=\"result-4d077712-85dc-4184-81dd-45595f81a5d0\">\n",
              "      Upload widget is only available when the cell has been executed in the\n",
              "      current browser session. Please rerun this cell to enable.\n",
              "      </output>\n",
              "      <script>// Copyright 2017 Google LLC\n",
              "//\n",
              "// Licensed under the Apache License, Version 2.0 (the \"License\");\n",
              "// you may not use this file except in compliance with the License.\n",
              "// You may obtain a copy of the License at\n",
              "//\n",
              "//      http://www.apache.org/licenses/LICENSE-2.0\n",
              "//\n",
              "// Unless required by applicable law or agreed to in writing, software\n",
              "// distributed under the License is distributed on an \"AS IS\" BASIS,\n",
              "// WITHOUT WARRANTIES OR CONDITIONS OF ANY KIND, either express or implied.\n",
              "// See the License for the specific language governing permissions and\n",
              "// limitations under the License.\n",
              "\n",
              "/**\n",
              " * @fileoverview Helpers for google.colab Python module.\n",
              " */\n",
              "(function(scope) {\n",
              "function span(text, styleAttributes = {}) {\n",
              "  const element = document.createElement('span');\n",
              "  element.textContent = text;\n",
              "  for (const key of Object.keys(styleAttributes)) {\n",
              "    element.style[key] = styleAttributes[key];\n",
              "  }\n",
              "  return element;\n",
              "}\n",
              "\n",
              "// Max number of bytes which will be uploaded at a time.\n",
              "const MAX_PAYLOAD_SIZE = 100 * 1024;\n",
              "\n",
              "function _uploadFiles(inputId, outputId) {\n",
              "  const steps = uploadFilesStep(inputId, outputId);\n",
              "  const outputElement = document.getElementById(outputId);\n",
              "  // Cache steps on the outputElement to make it available for the next call\n",
              "  // to uploadFilesContinue from Python.\n",
              "  outputElement.steps = steps;\n",
              "\n",
              "  return _uploadFilesContinue(outputId);\n",
              "}\n",
              "\n",
              "// This is roughly an async generator (not supported in the browser yet),\n",
              "// where there are multiple asynchronous steps and the Python side is going\n",
              "// to poll for completion of each step.\n",
              "// This uses a Promise to block the python side on completion of each step,\n",
              "// then passes the result of the previous step as the input to the next step.\n",
              "function _uploadFilesContinue(outputId) {\n",
              "  const outputElement = document.getElementById(outputId);\n",
              "  const steps = outputElement.steps;\n",
              "\n",
              "  const next = steps.next(outputElement.lastPromiseValue);\n",
              "  return Promise.resolve(next.value.promise).then((value) => {\n",
              "    // Cache the last promise value to make it available to the next\n",
              "    // step of the generator.\n",
              "    outputElement.lastPromiseValue = value;\n",
              "    return next.value.response;\n",
              "  });\n",
              "}\n",
              "\n",
              "/**\n",
              " * Generator function which is called between each async step of the upload\n",
              " * process.\n",
              " * @param {string} inputId Element ID of the input file picker element.\n",
              " * @param {string} outputId Element ID of the output display.\n",
              " * @return {!Iterable<!Object>} Iterable of next steps.\n",
              " */\n",
              "function* uploadFilesStep(inputId, outputId) {\n",
              "  const inputElement = document.getElementById(inputId);\n",
              "  inputElement.disabled = false;\n",
              "\n",
              "  const outputElement = document.getElementById(outputId);\n",
              "  outputElement.innerHTML = '';\n",
              "\n",
              "  const pickedPromise = new Promise((resolve) => {\n",
              "    inputElement.addEventListener('change', (e) => {\n",
              "      resolve(e.target.files);\n",
              "    });\n",
              "  });\n",
              "\n",
              "  const cancel = document.createElement('button');\n",
              "  inputElement.parentElement.appendChild(cancel);\n",
              "  cancel.textContent = 'Cancel upload';\n",
              "  const cancelPromise = new Promise((resolve) => {\n",
              "    cancel.onclick = () => {\n",
              "      resolve(null);\n",
              "    };\n",
              "  });\n",
              "\n",
              "  // Wait for the user to pick the files.\n",
              "  const files = yield {\n",
              "    promise: Promise.race([pickedPromise, cancelPromise]),\n",
              "    response: {\n",
              "      action: 'starting',\n",
              "    }\n",
              "  };\n",
              "\n",
              "  cancel.remove();\n",
              "\n",
              "  // Disable the input element since further picks are not allowed.\n",
              "  inputElement.disabled = true;\n",
              "\n",
              "  if (!files) {\n",
              "    return {\n",
              "      response: {\n",
              "        action: 'complete',\n",
              "      }\n",
              "    };\n",
              "  }\n",
              "\n",
              "  for (const file of files) {\n",
              "    const li = document.createElement('li');\n",
              "    li.append(span(file.name, {fontWeight: 'bold'}));\n",
              "    li.append(span(\n",
              "        `(${file.type || 'n/a'}) - ${file.size} bytes, ` +\n",
              "        `last modified: ${\n",
              "            file.lastModifiedDate ? file.lastModifiedDate.toLocaleDateString() :\n",
              "                                    'n/a'} - `));\n",
              "    const percent = span('0% done');\n",
              "    li.appendChild(percent);\n",
              "\n",
              "    outputElement.appendChild(li);\n",
              "\n",
              "    const fileDataPromise = new Promise((resolve) => {\n",
              "      const reader = new FileReader();\n",
              "      reader.onload = (e) => {\n",
              "        resolve(e.target.result);\n",
              "      };\n",
              "      reader.readAsArrayBuffer(file);\n",
              "    });\n",
              "    // Wait for the data to be ready.\n",
              "    let fileData = yield {\n",
              "      promise: fileDataPromise,\n",
              "      response: {\n",
              "        action: 'continue',\n",
              "      }\n",
              "    };\n",
              "\n",
              "    // Use a chunked sending to avoid message size limits. See b/62115660.\n",
              "    let position = 0;\n",
              "    do {\n",
              "      const length = Math.min(fileData.byteLength - position, MAX_PAYLOAD_SIZE);\n",
              "      const chunk = new Uint8Array(fileData, position, length);\n",
              "      position += length;\n",
              "\n",
              "      const base64 = btoa(String.fromCharCode.apply(null, chunk));\n",
              "      yield {\n",
              "        response: {\n",
              "          action: 'append',\n",
              "          file: file.name,\n",
              "          data: base64,\n",
              "        },\n",
              "      };\n",
              "\n",
              "      let percentDone = fileData.byteLength === 0 ?\n",
              "          100 :\n",
              "          Math.round((position / fileData.byteLength) * 100);\n",
              "      percent.textContent = `${percentDone}% done`;\n",
              "\n",
              "    } while (position < fileData.byteLength);\n",
              "  }\n",
              "\n",
              "  // All done.\n",
              "  yield {\n",
              "    response: {\n",
              "      action: 'complete',\n",
              "    }\n",
              "  };\n",
              "}\n",
              "\n",
              "scope.google = scope.google || {};\n",
              "scope.google.colab = scope.google.colab || {};\n",
              "scope.google.colab._files = {\n",
              "  _uploadFiles,\n",
              "  _uploadFilesContinue,\n",
              "};\n",
              "})(self);\n",
              "</script> "
            ]
          },
          "metadata": {}
        },
        {
          "output_type": "stream",
          "name": "stdout",
          "text": [
            "Saving Base Ventas Celulares.csv to Base Ventas Celulares (1).csv\n"
          ]
        }
      ]
    },
    {
      "cell_type": "code",
      "source": [
        "#Importar Librerias\n",
        "import pandas as pd\n",
        "import numpy as np\n",
        "import math\n",
        "import matplotlib.pyplot as plt"
      ],
      "metadata": {
        "id": "F6SydFGCSkmf"
      },
      "execution_count": 26,
      "outputs": []
    },
    {
      "cell_type": "code",
      "source": [
        "#Cargar el csv\n",
        "df = pd.read_csv('Base Ventas Celulares.csv')\n",
        "\n",
        "#Comprobar que los datos fueran correctamente cargados\n",
        "print(df.head())"
      ],
      "metadata": {
        "colab": {
          "base_uri": "https://localhost:8080/"
        },
        "id": "aME_jLR9SmJG",
        "outputId": "4b237013-c140-4f7f-af4d-42cf0a6902d9"
      },
      "execution_count": 27,
      "outputs": [
        {
          "output_type": "stream",
          "name": "stdout",
          "text": [
            "   Fecha Codigo         País Distribuidor Producto  Operador  Cantidad  \\\n",
            "0  40181   A640  El Salvador       Ripley  Samsung  Movistar        15   \n",
            "1  40183   A687       España    Plaza Vea       LG     Entel        29   \n",
            "2  40185  A1162     Paraguay        Metro    Nokia     Entel        21   \n",
            "3  40189   A463         Cuba      Oeschle    Apple     Entel        30   \n",
            "4  40190   A847    Guatemala        Metro       LG     Claro         7   \n",
            "\n",
            "  Forma de pago   Precio     Total  \n",
            "0      Efectivo  1750000  26250000  \n",
            "1      Efectivo  1100000  31900000  \n",
            "2      Efectivo   950000  19950000  \n",
            "3      Efectivo   710000  21300000  \n",
            "4      Efectivo  1610000  11270000  \n"
          ]
        }
      ]
    },
    {
      "cell_type": "markdown",
      "source": [
        "**Medidas de tendencia central de las columnas Cantidad y Total**"
      ],
      "metadata": {
        "id": "WV4Ilub6TG91"
      }
    },
    {
      "cell_type": "markdown",
      "source": [
        "**Calcular media, mediana y moda de Cantidad**"
      ],
      "metadata": {
        "id": "hjT5g5gKUq6H"
      }
    },
    {
      "cell_type": "code",
      "source": [
        "#Calcular la media de la comumna Cantidad\n",
        "media_cant = df['Cantidad'].mean()\n",
        "print(f'La media de la cantidad es: {media_cant}')"
      ],
      "metadata": {
        "colab": {
          "base_uri": "https://localhost:8080/"
        },
        "id": "bPie3SxpTDvG",
        "outputId": "2e45a325-9106-4c2f-b1d4-dc4677b0e468"
      },
      "execution_count": 28,
      "outputs": [
        {
          "output_type": "stream",
          "name": "stdout",
          "text": [
            "La media de la cantidad es: 15.587725150100066\n"
          ]
        }
      ]
    },
    {
      "cell_type": "code",
      "source": [
        "#Calcular la mediana de la comumna Cantidad\n",
        "mediana_cant = df['Cantidad'].median()\n",
        "print(f'La mediana de la cantidad es: {mediana_cant}')"
      ],
      "metadata": {
        "colab": {
          "base_uri": "https://localhost:8080/"
        },
        "id": "5SZmMUGATE-F",
        "outputId": "cb0c57eb-830e-4684-b3cd-3024ac10ec8f"
      },
      "execution_count": 29,
      "outputs": [
        {
          "output_type": "stream",
          "name": "stdout",
          "text": [
            "La mediana de la cantidad es: 16.0\n"
          ]
        }
      ]
    },
    {
      "cell_type": "code",
      "source": [
        "#Calcular la moda de la comumna Cantidad\n",
        "moda_cant = df['Cantidad'].mode()\n",
        "print(f'La moda de la cantidad es: {moda_cant}')"
      ],
      "metadata": {
        "colab": {
          "base_uri": "https://localhost:8080/"
        },
        "id": "g2X4DjfVTE0V",
        "outputId": "679db7c5-687e-4dd1-be76-6f7ac2c61c52"
      },
      "execution_count": 30,
      "outputs": [
        {
          "output_type": "stream",
          "name": "stdout",
          "text": [
            "La moda de la cantidad es: 0    24\n",
            "Name: Cantidad, dtype: int64\n"
          ]
        }
      ]
    },
    {
      "cell_type": "markdown",
      "source": [
        "**Calcular media, mediana y moda de Total**"
      ],
      "metadata": {
        "id": "kCfTtAU-U3E8"
      }
    },
    {
      "cell_type": "code",
      "source": [
        "#Calcular la media de la comumna Total\n",
        "media_total = df['Total'].mean()\n",
        "print(f'La media de total es: {media_total}')"
      ],
      "metadata": {
        "colab": {
          "base_uri": "https://localhost:8080/"
        },
        "id": "dvbOHLxVT5L_",
        "outputId": "61d046f3-8676-423d-d561-c379ba3dea2c"
      },
      "execution_count": 31,
      "outputs": [
        {
          "output_type": "stream",
          "name": "stdout",
          "text": [
            "La media de total es: 20958672.448298864\n"
          ]
        }
      ]
    },
    {
      "cell_type": "code",
      "source": [
        "#Calcular la mediana de la comumna Total\n",
        "mediana_total = df['Total'].median()\n",
        "print(f'La mediana de total es: {mediana_total}')"
      ],
      "metadata": {
        "colab": {
          "base_uri": "https://localhost:8080/"
        },
        "id": "S6DkEQGIT5C_",
        "outputId": "487984ba-d5a2-4ae7-d48e-fcde9fe3c90b"
      },
      "execution_count": 32,
      "outputs": [
        {
          "output_type": "stream",
          "name": "stdout",
          "text": [
            "La mediana de total es: 19400000.0\n"
          ]
        }
      ]
    },
    {
      "cell_type": "code",
      "source": [
        "#Calcular la moda de la comumna Total\n",
        "moda_total = df['Total'].mode()\n",
        "print(f'La moda de total es: {moda_total}')"
      ],
      "metadata": {
        "colab": {
          "base_uri": "https://localhost:8080/"
        },
        "id": "UEdgjrevT45o",
        "outputId": "211aad98-21c3-4415-a0b0-1c77c26d9b25"
      },
      "execution_count": 33,
      "outputs": [
        {
          "output_type": "stream",
          "name": "stdout",
          "text": [
            "La moda de total es: 0    17100000\n",
            "Name: Total, dtype: int64\n"
          ]
        }
      ]
    },
    {
      "cell_type": "markdown",
      "source": [
        "**¿Qué podemos concluir de cada uno de estos datos?**\n",
        "\n",
        "**Cantidad**\n",
        "\n",
        "* La media indica que en promedio, se vendieron aproximadamente 15.5877 unidades por operación.\n",
        "\n",
        "* La mediana, ligeramente mayor que la media, sugiere que la distribución es algo sesgada, probablemente por ventas de pocas unidades en algunos casos.\n",
        "\n",
        "* La moda (24 unidades) refleja que este número de ventas fue el más frecuente.\n",
        "\n",
        "**Total**\n",
        "\n",
        "* La media muestra que el promedio del total de ventas por operación fue de 20958672.448298864 unidades monetarias.\n",
        "\n",
        "* La mediana es menor que la media, lo que sugiere que hay operaciones con valores muy altos (outliers) que elevan la media.\n",
        "\n",
        "* La moda (17100000) es el total de ventas que más se repitió, lo cual podría ser típico de transacciones regulares."
      ],
      "metadata": {
        "id": "GcqasnysdCO-"
      }
    },
    {
      "cell_type": "markdown",
      "source": [
        "**Medidas de dispersión**"
      ],
      "metadata": {
        "id": "AtbvG_F-XYZP"
      }
    },
    {
      "cell_type": "markdown",
      "source": [
        "**Calcular varianza, desviación estandar y coeficiente de variación de la columna Cantidad**"
      ],
      "metadata": {
        "id": "nA5pnqpqZBxg"
      }
    },
    {
      "cell_type": "code",
      "source": [
        "#Calcular la varianza de la columna Cantidad\n",
        "varianza_cant = df['Cantidad'].var()\n",
        "print(f'La varianza de la cantidad es: {varianza_cant}')"
      ],
      "metadata": {
        "colab": {
          "base_uri": "https://localhost:8080/"
        },
        "id": "1JLYlHBjXadC",
        "outputId": "8e15a77a-e5fc-4213-9e3a-0a2182510e08"
      },
      "execution_count": 34,
      "outputs": [
        {
          "output_type": "stream",
          "name": "stdout",
          "text": [
            "La varianza de la cantidad es: 76.13966231158967\n"
          ]
        }
      ]
    },
    {
      "cell_type": "code",
      "source": [
        "#Desviación estandar de la columna Cantidad\n",
        "desv_est_cant =df['Cantidad'].std()\n",
        "desv_est_raiz_cant = np.sqrt(varianza_cant)\n",
        "print(f'La desviación estandar de la cantidad es: {desv_est_cant}')\n",
        "print(f'La desviación estandar con la raiz de la cantidad es: {desv_est_raiz_cant}')"
      ],
      "metadata": {
        "colab": {
          "base_uri": "https://localhost:8080/"
        },
        "id": "4FmWrw8EY9Kz",
        "outputId": "d121aac6-3de8-466f-e250-b4a13a41c51e"
      },
      "execution_count": 35,
      "outputs": [
        {
          "output_type": "stream",
          "name": "stdout",
          "text": [
            "La desviación estandar de la cantidad es: 8.725804393383436\n",
            "La desviación estandar con la raiz de la cantidad es: 8.725804393383436\n"
          ]
        }
      ]
    },
    {
      "cell_type": "code",
      "source": [
        "#Coeficiente de variación de la columna Cantidad\n",
        "cv_cant =(desv_est_cant/media_cant)*100\n",
        "print(f'El coeficiente de variacion de la cantidad es: {cv_cant:.2f}%')"
      ],
      "metadata": {
        "colab": {
          "base_uri": "https://localhost:8080/"
        },
        "id": "P0ps1_8bZA8o",
        "outputId": "08f675ae-53e4-4315-f13c-b05b666d2212"
      },
      "execution_count": 36,
      "outputs": [
        {
          "output_type": "stream",
          "name": "stdout",
          "text": [
            "El coeficiente de variacion de la cantidad es: 55.98%\n"
          ]
        }
      ]
    },
    {
      "cell_type": "markdown",
      "source": [
        "**Calcular varianza, desviación estandar y coeficiente de variación de la columna Total**"
      ],
      "metadata": {
        "id": "PcoyhfynZcyE"
      }
    },
    {
      "cell_type": "code",
      "source": [
        "#Calcular la varianza de la columna Total\n",
        "varianza_total = df['Total'].var()\n",
        "print(f'La varianza de total es: {varianza_total}')"
      ],
      "metadata": {
        "colab": {
          "base_uri": "https://localhost:8080/"
        },
        "id": "GwdYdi0iZeFC",
        "outputId": "5a50efe1-f9da-4d27-f35f-cb6fb4702349"
      },
      "execution_count": 37,
      "outputs": [
        {
          "output_type": "stream",
          "name": "stdout",
          "text": [
            "La varianza de total es: 181587901774480.44\n"
          ]
        }
      ]
    },
    {
      "cell_type": "code",
      "source": [
        "#Desviación estandar de la columna Total\n",
        "desv_est_total =df['Total'].std()\n",
        "desv_est_raiz_total = np.sqrt(varianza_total)\n",
        "print(f'La desviación estandar de total es: {desv_est_total}')\n",
        "print(f'La desviación estandar con la raiz de total es: {desv_est_raiz_total}')"
      ],
      "metadata": {
        "colab": {
          "base_uri": "https://localhost:8080/"
        },
        "id": "2olZfNZJZe1D",
        "outputId": "fcdf7348-402f-4bdc-bfe2-488246223eae"
      },
      "execution_count": 38,
      "outputs": [
        {
          "output_type": "stream",
          "name": "stdout",
          "text": [
            "La desviación estandar de total es: 13475455.531241994\n",
            "La desviación estandar con la raiz de total es: 13475455.531241994\n"
          ]
        }
      ]
    },
    {
      "cell_type": "code",
      "source": [
        "#Coeficiente de variación de la columna Total\n",
        "cv_total =(desv_est_total/media_total)*100\n",
        "print(f'El coeficiente de variacion de total es: {cv_total:.2f}%')"
      ],
      "metadata": {
        "colab": {
          "base_uri": "https://localhost:8080/"
        },
        "id": "qxFO2zYdZesb",
        "outputId": "7f3713c3-4150-43a3-b5ad-8c06faa3fac9"
      },
      "execution_count": 39,
      "outputs": [
        {
          "output_type": "stream",
          "name": "stdout",
          "text": [
            "El coeficiente de variacion de total es: 64.30%\n"
          ]
        }
      ]
    },
    {
      "cell_type": "markdown",
      "source": [
        "**¿Qué podemos concluir de cada uno de estos datos?**\n",
        "\n",
        "*  Varianza: Es una medida de dispersión absoluta que refleja la variabilidad de los datos. La alta varianza en Total indica una gran dispersión en las ventas totales, mientras que la varianza en Cantidad es más baja, lo que implica que la dispersión en la cantidad vendida es menor.\n",
        "\n",
        "* Desviación estándar: Proporciona una idea más tangible de la variabilidad en las mismas unidades de las columnas. Las cifras sugieren que las ventas totales tienen una variabilidad mucho mayor que las cantidades vendidas.\n",
        "\n",
        "* Coeficiente de variación (CV): Permite comparar la dispersión relativa entre diferentes conjuntos de datos. El CV de Total es mayor que el de Cantidad, lo que indica que las ventas totales son más variables en relación con su media, en comparación con la cantidad de productos vendidos.\n",
        "\n",
        "\n"
      ],
      "metadata": {
        "id": "tF3gaT0hfy3E"
      }
    }
  ]
}